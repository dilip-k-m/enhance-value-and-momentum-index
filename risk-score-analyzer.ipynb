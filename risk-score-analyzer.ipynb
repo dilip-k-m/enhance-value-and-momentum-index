{
 "cells": [
  {
   "cell_type": "code",
   "execution_count": 1,
   "id": "b6c24a5a",
   "metadata": {},
   "outputs": [],
   "source": [
    "import pandas as pd"
   ]
  },
  {
   "cell_type": "code",
   "execution_count": 2,
   "id": "22107c81",
   "metadata": {},
   "outputs": [],
   "source": [
    "import yfinance as yf\n",
    "import numpy as np\n",
    "\n",
    "stock_symbol_yfin = {'N50': '^NSEI', 'NMID50': '^NSEMDCP50', 'NMID150': '0P0001IAU9.BO', 'NSMALL50': '0P0001OI4I.BO', 'NSMALL250': '0P0001KR2R.BO'}\n",
    "\n",
    "def get_risk_score(prices):\n",
    "    daily_returns = prices.pct_change().dropna()\n",
    "    volatility = np.std(daily_returns) * np.sqrt(len(prices))  # Annualized volatility (252 trading days)\n",
    "    return volatility\n",
    "    \n",
    "def get_risk_per_return(prices):\n",
    "    daily_returns = prices.pct_change().dropna()\n",
    "    risk = np.std(daily_returns) * np.sqrt(len(prices))\n",
    "    ret = ((prices.iloc[-1] - prices.iloc[0]) / prices.iloc[0]) * 100\n",
    "\n",
    "    return risk/ret\n",
    "\n",
    "def get_key_by_val(dictionary, value):\n",
    "    for key, val in dictionary.items():\n",
    "        if val == value:\n",
    "            return key\n",
    "\n",
    "# yf.download(tick, start='2022-08-01')['Adj Close']\n",
    "\n",
    "def get_stats_yf(stocks, start_dt='2022-08-01'):\n",
    "    risk_score={}\n",
    "    for s in stocks:\n",
    "        stock_data = yf.download(stock_symbol_yfin[s], start=start_dt)['Adj Close']\n",
    "        stat = {}\n",
    "        stat['risk'] = get_risk_score(stock_data)\n",
    "        stat['risk_per_return'] = get_risk_per_return(stock_data)\n",
    "        risk_score[s]= stat\n",
    "\n",
    "    return risk_score\n",
    "\n",
    "def get_stats_localf(stocks, files):\n",
    "    risk_score={}\n",
    "    for i in range(len(files)):\n",
    "        stock_data = pd.read_csv(f'data/{files[i]}')[::-1]\n",
    "        stock_data['date'] = pd.to_datetime(stock_data['Date'], format='%d %b %Y')\n",
    "        stock_data = stock_data[stock_data['date']>'2022-08-01']\n",
    "        stock_data.set_index('date', inplace=True)\n",
    "        stock_data = stock_data['Close']\n",
    "        stat = {}\n",
    "        stat['risk'] = get_risk_score(stock_data)\n",
    "        stat['risk_per_return'] = get_risk_per_return(stock_data)\n",
    "        risk_score[stocks[i]]= stat\n",
    "\n",
    "    return risk_score\n",
    "\n",
    "def get_stats_localf(stocks, files):\n",
    "    risk_score={}\n",
    "    for i in range(len(files)):\n",
    "        stock_data = pd.read_csv(f'data/{files[i]}')[::-1]\n",
    "        stock_data['date'] = pd.to_datetime(stock_data['Date'], format='%d %b %Y')\n",
    "        stock_data = stock_data[stock_data['date']>'2022-08-01']\n",
    "        stock_data.set_index('date', inplace=True)\n",
    "        stock_data = stock_data['Close']\n",
    "        stat = {}\n",
    "        stat['risk'] = get_risk_score(stock_data)\n",
    "        stat['risk_per_return'] = get_risk_per_return(stock_data)\n",
    "        risk_score[stocks[i]]= stat\n",
    "\n",
    "    return risk_score\n",
    "\n",
    "\n",
    "base_path='data/NSE'\n",
    "def get_stats_nse():\n",
    "    import os\n",
    "    risk_score={}\n",
    "    for s in os.listdir(base_path):\n",
    "        directory = base_path+\"/\"+s\n",
    "        files = os.listdir(directory)\n",
    "        csv_files = [file for file in files if file.endswith('.csv')]\n",
    "        dataframes = [pd.read_csv(os.path.join(directory, file)) for file in csv_files]\n",
    "        stock_data = pd.concat(dataframes, axis=0).dropna()\n",
    "        stock_data.columns=[col.strip() for col in stock_data.columns]\n",
    "#         print(stock_data)\n",
    "        stock_data.set_index('Date', inplace=True)\n",
    "        stock_data = stock_data['Close']\n",
    "        stat = {}\n",
    "        stat['risk'] = get_risk_score(stock_data)\n",
    "        stat['risk_per_return'] = get_risk_per_return(stock_data)\n",
    "        risk_score[s]= stat\n",
    "\n",
    "    return risk_score\n",
    "\n"
   ]
  },
  {
   "cell_type": "code",
   "execution_count": 3,
   "id": "7d56af58",
   "metadata": {},
   "outputs": [
    {
     "data": {
      "text/plain": [
       "{'NIFTY_50': {'risk': 0.4458876386566525,\n",
       "  'risk_per_return': 0.0038826163575843833},\n",
       " 'NIFTY_NEXT_50': {'risk': 0.4583959467255562,\n",
       "  'risk_per_return': 0.004261854281544276},\n",
       " 'NIFTY_SMALLCAP_250': {'risk': 0.45166541798009424,\n",
       "  'risk_per_return': 0.0022361018566211532}}"
      ]
     },
     "execution_count": 3,
     "metadata": {},
     "output_type": "execute_result"
    }
   ],
   "source": [
    "risk_scores = get_stats_nse()\n",
    "risk_scores"
   ]
  },
  {
   "cell_type": "code",
   "execution_count": 4,
   "id": "d518a275",
   "metadata": {},
   "outputs": [],
   "source": [
    "def get_composition(risk_scores):\n",
    "    # Step 1: Calculate the total risk-per-return value\n",
    "    total_risk_per_return = sum((1/stock['risk_per_return']) for stock in risk_scores.values())\n",
    "\n",
    "    # Step 2 & 3: Calculate the weights and scale them\n",
    "    weights = {stock: (100 * (1/risk_scores[stock]['risk_per_return']) / total_risk_per_return) for stock in risk_scores}\n",
    "    \n",
    "    print(f\"tot risk = {round(total_risk_per_return)}%\")\n",
    "    print(\"===============================\")\n",
    "    for stock, weight in weights.items():\n",
    "        print(f\"{stock}: {weight:.2f}%\")\n"
   ]
  },
  {
   "cell_type": "code",
   "execution_count": 5,
   "id": "157de63a",
   "metadata": {},
   "outputs": [
    {
     "name": "stdout",
     "output_type": "stream",
     "text": [
      "tot risk = 939%\n",
      "===============================\n",
      "NIFTY_50: 27.42%\n",
      "NIFTY_NEXT_50: 24.98%\n",
      "NIFTY_SMALLCAP_250: 47.61%\n"
     ]
    }
   ],
   "source": [
    "get_composition(risk_scores)"
   ]
  },
  {
   "cell_type": "code",
   "execution_count": null,
   "id": "5a550cfe",
   "metadata": {},
   "outputs": [],
   "source": []
  },
  {
   "cell_type": "code",
   "execution_count": null,
   "id": "0040420f",
   "metadata": {},
   "outputs": [],
   "source": []
  },
  {
   "cell_type": "code",
   "execution_count": null,
   "id": "47089600",
   "metadata": {},
   "outputs": [],
   "source": []
  },
  {
   "cell_type": "code",
   "execution_count": null,
   "id": "8ed531d0",
   "metadata": {},
   "outputs": [],
   "source": []
  },
  {
   "cell_type": "code",
   "execution_count": null,
   "id": "e094a2fd",
   "metadata": {},
   "outputs": [],
   "source": []
  },
  {
   "cell_type": "code",
   "execution_count": null,
   "id": "ce2e6ed7",
   "metadata": {},
   "outputs": [],
   "source": []
  },
  {
   "cell_type": "code",
   "execution_count": null,
   "id": "a01bd3a9",
   "metadata": {},
   "outputs": [],
   "source": []
  },
  {
   "cell_type": "code",
   "execution_count": null,
   "id": "d62cc850",
   "metadata": {},
   "outputs": [],
   "source": []
  },
  {
   "cell_type": "code",
   "execution_count": null,
   "id": "7eb09c6f",
   "metadata": {},
   "outputs": [],
   "source": []
  },
  {
   "cell_type": "code",
   "execution_count": null,
   "id": "14cbcb6b",
   "metadata": {},
   "outputs": [],
   "source": []
  },
  {
   "cell_type": "code",
   "execution_count": null,
   "id": "7233caf6",
   "metadata": {},
   "outputs": [],
   "source": []
  },
  {
   "cell_type": "code",
   "execution_count": 252,
   "id": "f86707d8",
   "metadata": {},
   "outputs": [
    {
     "name": "stderr",
     "output_type": "stream",
     "text": [
      "[*********************100%%**********************]  1 of 1 completed\n",
      "[*********************100%%**********************]  1 of 1 completed\n",
      "[*********************100%%**********************]  1 of 1 completed\n",
      "[*********************100%%**********************]  1 of 1 completed\n",
      "[*********************100%%**********************]  1 of 1 completed\n"
     ]
    },
    {
     "data": {
      "text/plain": [
       "{'N50': {'risk': 0.14337549536410937, 'risk_per_return': 0.0048940710153726},\n",
       " 'NMID50': {'risk': 0.19035370278620609,\n",
       "  'risk_per_return': 0.002731967592124469},\n",
       " 'NMID150': {'risk': 0.1711220783603584,\n",
       "  'risk_per_return': 0.002585278074504622},\n",
       " 'NSMALL50': {'risk': 0.2127532292508741,\n",
       "  'risk_per_return': 0.002600455848514404},\n",
       " 'NSMALL250': {'risk': 0.19261662830555887,\n",
       "  'risk_per_return': 0.0025077437160994274}}"
      ]
     },
     "execution_count": 252,
     "metadata": {},
     "output_type": "execute_result"
    }
   ],
   "source": [
    "get_stats_yf(['N50', 'NMID50', 'NMID150', 'NSMALL50', 'NSMALL250'])"
   ]
  },
  {
   "cell_type": "code",
   "execution_count": 253,
   "id": "f9027340",
   "metadata": {},
   "outputs": [
    {
     "name": "stderr",
     "output_type": "stream",
     "text": [
      "[*********************100%%**********************]  1 of 1 completed\n",
      "[*********************100%%**********************]  1 of 1 completed\n",
      "[*********************100%%**********************]  1 of 1 completed\n",
      "[*********************100%%**********************]  1 of 1 completed\n",
      "[*********************100%%**********************]  1 of 1 completed\n"
     ]
    }
   ],
   "source": [
    "risk_scores = get_stats_yf(['N50', 'NMID50', 'NMID150', 'NSMALL50', 'NSMALL250'])"
   ]
  },
  {
   "cell_type": "code",
   "execution_count": 254,
   "id": "67756e4e",
   "metadata": {},
   "outputs": [],
   "source": [
    "ticks = ['val','mom']\n",
    "files = ['NIFTY500 VALUE 50_Historical_PR_01042005to02032024.csv',\n",
    "         'NIFTY200 MOMENTUM 30_Historical_PR_01042005to02032024.csv']\n",
    "risk_scores.update(get_stats_localf(ticks, files))"
   ]
  },
  {
   "cell_type": "code",
   "execution_count": 255,
   "id": "e826f808",
   "metadata": {},
   "outputs": [
    {
     "name": "stdout",
     "output_type": "stream",
     "text": [
      "N50: {'risk': 0.14337549536410937, 'risk_per_return': 0.0048940710153726}\n",
      "NMID50: {'risk': 0.19035370278620609, 'risk_per_return': 0.002731967592124469}\n",
      "NMID150: {'risk': 0.1711220783603584, 'risk_per_return': 0.002585278074504622}\n",
      "NSMALL50: {'risk': 0.2127532292508741, 'risk_per_return': 0.002600455848514404}\n",
      "NSMALL250: {'risk': 0.19261662830555887, 'risk_per_return': 0.0025077437160994274}\n",
      "val: {'risk': 0.21208922376436642, 'risk_per_return': 0.0019091803094165097}\n",
      "mom: {'risk': 0.17885531183551914, 'risk_per_return': 0.0026802441159535385}\n"
     ]
    }
   ],
   "source": [
    "for k,v in risk_scores.items():\n",
    "    print(f\"{k}: {v}\")"
   ]
  },
  {
   "cell_type": "code",
   "execution_count": 271,
   "id": "29a8ef76",
   "metadata": {},
   "outputs": [],
   "source": [
    "def get_composition(risk_scores):\n",
    "    # Step 1: Calculate the total risk-per-return value\n",
    "    total_risk_per_return = sum((1/stock['risk_per_return']) for stock in risk_scores.values())\n",
    "\n",
    "    # Step 2 & 3: Calculate the weights and scale them\n",
    "    weights = {stock: (100 * (1/stocks[stock]['risk_per_return']) / total_risk_per_return) for stock in risk_scores}\n",
    "    \n",
    "    print(f\"tot risk = {round(total_risk_per_return*1000)}%\")\n",
    "    print(\"===============================\")\n",
    "    for stock, weight in weights.items():\n",
    "        print(f\"{stock}: {weight:.2f}%\")\n"
   ]
  },
  {
   "cell_type": "code",
   "execution_count": 272,
   "id": "8456c71c",
   "metadata": {},
   "outputs": [
    {
     "name": "stdout",
     "output_type": "stream",
     "text": [
      "tot risk = 2637369%\n",
      "===============================\n",
      "N50: 7.75%\n",
      "NMID50: 13.88%\n",
      "NMID150: 14.67%\n",
      "NSMALL50: 14.58%\n",
      "NSMALL250: 15.12%\n",
      "val: 19.86%\n",
      "mom: 14.15%\n"
     ]
    }
   ],
   "source": [
    "get_composition(risk_scores)"
   ]
  },
  {
   "cell_type": "code",
   "execution_count": 268,
   "id": "f298e544",
   "metadata": {},
   "outputs": [
    {
     "name": "stdout",
     "output_type": "stream",
     "text": [
      "N50        : risk=0.004894 risk/ret=0.143375     no-abs-risk=6.975 no-RPR-risk=204.329\n",
      "NMID50     : risk=0.002732 risk/ret=0.190354     no-abs-risk=5.253 no-RPR-risk=366.037\n",
      "NMID150    : risk=0.002585 risk/ret=0.171122     no-abs-risk=5.844 no-RPR-risk=386.806\n",
      "NSMALL50   : risk=0.0026 risk/ret=0.212753     no-abs-risk=4.7 no-RPR-risk=384.548\n",
      "NSMALL250  : risk=0.002508 risk/ret=0.192617     no-abs-risk=5.192 no-RPR-risk=398.765\n",
      "val        : risk=0.001909 risk/ret=0.212089     no-abs-risk=4.715 no-RPR-risk=523.785\n",
      "mom        : risk=0.00268 risk/ret=0.178855     no-abs-risk=5.591 no-RPR-risk=373.1\n"
     ]
    }
   ],
   "source": [
    "for k,v in risk_scores.items():\n",
    "    no_abs_risk=round(1/v['risk'], 3)\n",
    "    no_RPR_risk=round(1/v['risk_per_return'],3)\n",
    "    print(f\"{k:<11}: risk={round(v['risk_per_return'],6)} risk/ret={round(v['risk'],6)} \\\n",
    "    no-abs-risk={no_abs_risk} no-RPR-risk={no_RPR_risk}\")"
   ]
  },
  {
   "cell_type": "code",
   "execution_count": null,
   "id": "cca08d12",
   "metadata": {},
   "outputs": [],
   "source": [
    "{item:<{max_lengths[i]}}"
   ]
  },
  {
   "cell_type": "code",
   "execution_count": 273,
   "id": "72679c45",
   "metadata": {},
   "outputs": [],
   "source": [
    "# ==================================="
   ]
  },
  {
   "cell_type": "code",
   "execution_count": null,
   "id": "f76c5ae2",
   "metadata": {},
   "outputs": [],
   "source": []
  },
  {
   "cell_type": "code",
   "execution_count": null,
   "id": "a3f866f2",
   "metadata": {},
   "outputs": [],
   "source": []
  },
  {
   "cell_type": "code",
   "execution_count": null,
   "id": "90b1e1dd",
   "metadata": {},
   "outputs": [],
   "source": []
  }
 ],
 "metadata": {
  "kernelspec": {
   "display_name": "Python 3 (ipykernel)",
   "language": "python",
   "name": "python3"
  },
  "language_info": {
   "codemirror_mode": {
    "name": "ipython",
    "version": 3
   },
   "file_extension": ".py",
   "mimetype": "text/x-python",
   "name": "python",
   "nbconvert_exporter": "python",
   "pygments_lexer": "ipython3",
   "version": "3.11.5"
  }
 },
 "nbformat": 4,
 "nbformat_minor": 5
}
